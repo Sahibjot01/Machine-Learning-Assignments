{
 "cells": [
  {
   "cell_type": "markdown",
   "metadata": {},
   "source": [
    "### Q1. Create a program that asks the user to enter their name and their age. Print out a message addressed to them that tells them the year that they will turn 100 years old. \n",
    "#### Extras: \n",
    "#### 1. Add on to the previous program by asking the user for another number and printing out that many copies of the previous message. \n",
    "#### 2. Print out that many copies of the previous message on separate lines. (Hint: the string \"\\n is the same as pressing the ENTER button) "
   ]
  },
  {
   "cell_type": "code",
   "execution_count": 127,
   "metadata": {},
   "outputs": [],
   "source": [
    "def copy100(name, age, copy = 1):\n",
    "    for i in range(copy):\n",
    "        print(\"hey \"+ name+ \" you will turn 100 yeas old in \" + str(100 - age)+ \" years.\")"
   ]
  },
  {
   "cell_type": "code",
   "execution_count": 128,
   "metadata": {},
   "outputs": [
    {
     "name": "stdout",
     "output_type": "stream",
     "text": [
      "Sahib\n",
      "21\n",
      "5\n",
      "hey Sahib you will turn 100 yeas old in 79 years.\n",
      "hey Sahib you will turn 100 yeas old in 79 years.\n",
      "hey Sahib you will turn 100 yeas old in 79 years.\n",
      "hey Sahib you will turn 100 yeas old in 79 years.\n",
      "hey Sahib you will turn 100 yeas old in 79 years.\n"
     ]
    }
   ],
   "source": [
    "name = str(input())\n",
    "age = int(input())\n",
    "copy = int(input())\n",
    "copy100(name,age,copy)"
   ]
  },
  {
   "cell_type": "markdown",
   "metadata": {},
   "source": [
    "### Q2. Take a list, say for example this one: \n",
    "#### a = [1, 1, 2, 3, 5, 8, 13, 21, 34, 55, 89] \n",
    "#### and write a program that prints out all the elements of the list that are less than 5. Extras: \n",
    "#### 1. Instead of printing the elements one by one, make a new list that has all the elements less than 5 from this list in it and print out this new list. \n",
    "#### 2. Write this in one line of Python. \n",
    "#### 3. Ask the user for a number and return a list that contains only elements from the original list a that are smaller than that number given by the user. \n"
   ]
  },
  {
   "cell_type": "code",
   "execution_count": 15,
   "metadata": {},
   "outputs": [],
   "source": [
    "a = [1, 1, 2, 3, 5, 8, 13, 21, 34, 55, 89]"
   ]
  },
  {
   "cell_type": "markdown",
   "metadata": {},
   "source": [
    "#### 1st part & 2nd part"
   ]
  },
  {
   "cell_type": "code",
   "execution_count": 18,
   "metadata": {},
   "outputs": [],
   "source": [
    "updatedList = [ i for i in a if i<5]"
   ]
  },
  {
   "cell_type": "code",
   "execution_count": 19,
   "metadata": {},
   "outputs": [
    {
     "name": "stdout",
     "output_type": "stream",
     "text": [
      "[1, 1, 2, 3]\n"
     ]
    }
   ],
   "source": [
    "print(updatedList)"
   ]
  },
  {
   "cell_type": "markdown",
   "metadata": {},
   "source": [
    "#### 3rd part"
   ]
  },
  {
   "cell_type": "code",
   "execution_count": 21,
   "metadata": {},
   "outputs": [
    {
     "name": "stdout",
     "output_type": "stream",
     "text": [
      "58\n",
      "[1, 1, 2, 3, 5, 8, 13, 21, 34, 55]\n"
     ]
    }
   ],
   "source": [
    "number = int(input())\n",
    "updatedListv2 = [ i for i in a if i<number]\n",
    "print(updatedListv2)"
   ]
  },
  {
   "cell_type": "markdown",
   "metadata": {},
   "source": [
    "### Q3. Write a program that asks the user how many Fibonacci numbers to generate and then generates them. Take this opportunity to think about how you can use functions. Make sure to ask the user to enter the number of numbers in the sequence to generate.(Hint: The Fibonacci seqence is a sequence of numbers where the next number in the sequence is the sum of the previous two numbers in the sequence. The sequence looks like this: 1, 1, 2, 3, 5, 8, 13, …) \n"
   ]
  },
  {
   "cell_type": "code",
   "execution_count": 66,
   "metadata": {},
   "outputs": [],
   "source": [
    "import numpy as np\n",
    "def fibonacci(number):\n",
    "    fib = np.arange(number  + 1)\n",
    "    for i in range(2,number+1):\n",
    "        fib[i] = fib[i-1] + fib[i-2]\n",
    "    print(fib)"
   ]
  },
  {
   "cell_type": "code",
   "execution_count": 68,
   "metadata": {},
   "outputs": [
    {
     "name": "stdout",
     "output_type": "stream",
     "text": [
      "10\n",
      "[ 0  1  1  2  3  5  8 13 21 34 55]\n"
     ]
    }
   ],
   "source": [
    "number = int(input())\n",
    "fibonacci(number)"
   ]
  },
  {
   "cell_type": "markdown",
   "metadata": {},
   "source": [
    "### Q4. Write a program (function!) that takes a list and returns a new list that contains all the elements of the first list minus all the duplicates. \n",
    "#### Extras: \n",
    "● Write two different functions to do this - one using a loop and constructing a list, and another using sets. \n"
   ]
  },
  {
   "cell_type": "code",
   "execution_count": 94,
   "metadata": {},
   "outputs": [],
   "source": [
    "def removeDuplicate(a):\n",
    "    newList = []\n",
    "    [newList.append(i) for i in a if i not in newList]\n",
    "    return newList\n",
    "        "
   ]
  },
  {
   "cell_type": "code",
   "execution_count": 99,
   "metadata": {},
   "outputs": [
    {
     "name": "stdout",
     "output_type": "stream",
     "text": [
      "True\n"
     ]
    }
   ],
   "source": [
    "a = [1, 1, 2,2, 3, 5, 8, 13, 21,34, 34, 55, 89, 7 , 7]\n",
    "print(1 in a)"
   ]
  },
  {
   "cell_type": "code",
   "execution_count": 100,
   "metadata": {},
   "outputs": [
    {
     "name": "stdout",
     "output_type": "stream",
     "text": [
      "[1, 2, 3, 5, 8, 13, 21, 34, 55, 89, 7]\n"
     ]
    }
   ],
   "source": [
    "newList = removeDuplicate(a)\n",
    "print(newList)"
   ]
  },
  {
   "cell_type": "markdown",
   "metadata": {},
   "source": [
    "#### Using sets"
   ]
  },
  {
   "cell_type": "code",
   "execution_count": 101,
   "metadata": {},
   "outputs": [],
   "source": [
    "def removeDuplicateUsingSets(a):\n",
    "    newList = list(set(a)) ## make new list sorted ie ordering of previous list is lost \n",
    "    return newList"
   ]
  },
  {
   "cell_type": "code",
   "execution_count": 102,
   "metadata": {},
   "outputs": [
    {
     "name": "stdout",
     "output_type": "stream",
     "text": [
      "[1, 2, 3, 34, 5, 7, 8, 13, 21, 55, 89]\n"
     ]
    }
   ],
   "source": [
    "newList = removeDuplicateUsingSets(a)\n",
    "print(newList)"
   ]
  },
  {
   "cell_type": "markdown",
   "metadata": {},
   "source": [
    "### Q5. Ask the user for a number and determine whether the number is prime or not. (For those who have forgotten, a prime number is a number that has no divisors.). Use functions\n"
   ]
  },
  {
   "cell_type": "code",
   "execution_count": 125,
   "metadata": {},
   "outputs": [],
   "source": [
    "def primeChecker(number):\n",
    "    count = 0\n",
    "    for i in range(2,number):\n",
    "        if number%i == 0:\n",
    "            count +=1\n",
    "    if count == 0:\n",
    "        return \"Prime\"\n",
    "    return \"Not Prime\""
   ]
  },
  {
   "cell_type": "code",
   "execution_count": 126,
   "metadata": {},
   "outputs": [
    {
     "name": "stdout",
     "output_type": "stream",
     "text": [
      "21\n",
      "Not Prime\n",
      "55\n",
      "Not Prime\n",
      "23\n",
      "Prime\n",
      "97\n",
      "Prime\n",
      "89\n",
      "Prime\n"
     ]
    }
   ],
   "source": [
    "for i in range(5):\n",
    "    number = int(input())\n",
    "    print(primeChecker(number))"
   ]
  },
  {
   "cell_type": "code",
   "execution_count": null,
   "metadata": {},
   "outputs": [],
   "source": []
  }
 ],
 "metadata": {
  "kernelspec": {
   "display_name": "Python 3",
   "language": "python",
   "name": "python3"
  },
  "language_info": {
   "codemirror_mode": {
    "name": "ipython",
    "version": 3
   },
   "file_extension": ".py",
   "mimetype": "text/x-python",
   "name": "python",
   "nbconvert_exporter": "python",
   "pygments_lexer": "ipython3",
   "version": "3.8.3"
  }
 },
 "nbformat": 4,
 "nbformat_minor": 4
}
